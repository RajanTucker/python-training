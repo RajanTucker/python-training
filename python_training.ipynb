{
  "nbformat": 4,
  "nbformat_minor": 0,
  "metadata": {
    "colab": {
      "provenance": [],
      "toc_visible": true,
      "authorship_tag": "ABX9TyOHsSEUIOhMKnpj458b4293",
      "include_colab_link": true
    },
    "kernelspec": {
      "name": "python3",
      "display_name": "Python 3"
    },
    "language_info": {
      "name": "python"
    }
  },
  "cells": [
    {
      "cell_type": "markdown",
      "metadata": {
        "id": "view-in-github",
        "colab_type": "text"
      },
      "source": [
        "<a href=\"https://colab.research.google.com/github/RajanTucker/python-training/blob/main/python_training.ipynb\" target=\"_parent\"><img src=\"https://colab.research.google.com/assets/colab-badge.svg\" alt=\"Open In Colab\"/></a>"
      ]
    },
    {
      "cell_type": "markdown",
      "source": [
        "This is an example of List"
      ],
      "metadata": {
        "id": "ac4kO6F_uB9j"
      }
    },
    {
      "cell_type": "code",
      "source": [
        "Bicycles = ['a','b','c','d']\n",
        "print( Bicycles)"
      ],
      "metadata": {
        "colab": {
          "base_uri": "https://localhost:8080/"
        },
        "id": "DNQu95_OuIxK",
        "outputId": "a2d5e70f-c4dc-432d-961e-cb97a80f7564"
      },
      "execution_count": null,
      "outputs": [
        {
          "output_type": "stream",
          "name": "stdout",
          "text": [
            "['a', 'b', 'c', 'd']\n"
          ]
        }
      ]
    },
    {
      "cell_type": "code",
      "source": [
        "Bicycles = ['a','b','c','d']\n",
        "print(Bicycles[0].title())\n",
        "print(Bicycles[-3])\n",
        "message= f\"my bicycle is {Bicycles[0].title()}\"\n",
        "print(message)"
      ],
      "metadata": {
        "colab": {
          "base_uri": "https://localhost:8080/"
        },
        "id": "jKoKCeKBunT-",
        "outputId": "32aef965-1ce5-4bcf-caa3-783d3781c1e8"
      },
      "execution_count": null,
      "outputs": [
        {
          "output_type": "stream",
          "name": "stdout",
          "text": [
            "A\n",
            "b\n",
            "my bicycle is A\n"
          ]
        }
      ]
    },
    {
      "cell_type": "code",
      "source": [
        "Names = ['raj','varun','harjinder','arun']\n",
        "print(Names)\n",
        "print(Names[3])"
      ],
      "metadata": {
        "colab": {
          "base_uri": "https://localhost:8080/"
        },
        "id": "AeOSxQpyv52m",
        "outputId": "6285bef3-b22d-4787-f173-d25ec0a06d3c"
      },
      "execution_count": null,
      "outputs": [
        {
          "output_type": "stream",
          "name": "stdout",
          "text": [
            "['raj', 'varun', 'harjinder', 'arun']\n",
            "arun\n"
          ]
        }
      ]
    },
    {
      "cell_type": "code",
      "source": [
        "Names = ['raj','varun','harjinder','arun']\n",
        "print(Names[2].title())"
      ],
      "metadata": {
        "colab": {
          "base_uri": "https://localhost:8080/"
        },
        "id": "lR7f7jRC5ZZU",
        "outputId": "89225cfc-3d93-4cd8-8cb0-eae3636ad374"
      },
      "execution_count": null,
      "outputs": [
        {
          "output_type": "stream",
          "name": "stdout",
          "text": [
            "Harjinder\n"
          ]
        }
      ]
    },
    {
      "cell_type": "code",
      "source": [
        "Names = ['raj','varun','harjinder','arun']\n",
        "message=f\"My best friend is {Names[3].title()}\"\n",
        "print(message)"
      ],
      "metadata": {
        "colab": {
          "base_uri": "https://localhost:8080/"
        },
        "id": "MvuY9AkS58hE",
        "outputId": "59f08583-c80f-49fb-c6fc-a4d680226c30"
      },
      "execution_count": null,
      "outputs": [
        {
          "output_type": "stream",
          "name": "stdout",
          "text": [
            "My best friend is Arun\n"
          ]
        }
      ]
    },
    {
      "cell_type": "code",
      "source": [
        "Names = ['raj','varun','harjinder','arun']\n",
        "message=f\"{Names[0].title()} wished {Names[3].title()} Good Morning\"\n",
        "print(message)"
      ],
      "metadata": {
        "colab": {
          "base_uri": "https://localhost:8080/"
        },
        "id": "Zqgy742Y6j7x",
        "outputId": "5cce0633-7eae-442f-b8db-097fc3d37568"
      },
      "execution_count": null,
      "outputs": [
        {
          "output_type": "stream",
          "name": "stdout",
          "text": [
            "Raj wished Arun Good Morning\n"
          ]
        }
      ]
    },
    {
      "cell_type": "code",
      "source": [
        "Names = ['raj','varun','harjinder','arun']\n",
        "bikes = ['honda','yamaha','harley']\n",
        "message=f\"{Names[0].title()} likes {bikes[2].title()} however {Names[1].title()} likes{bikes[1].title()}\"\n",
        "print(message)\n",
        "Names[0]='deepak'\n",
        "print(Names[0])\n",
        "message=f\"{Names[0].title()} likes {bikes[2].title()} however {Names[1].title()} likes{bikes[1].title()}\"\n",
        "print(message)\n",
        "print(Names[0])\n",
        "bikes[2]='suzuki'\n",
        "print(bikes[2])\n",
        "bikes.insert(0,'dukati')\n",
        "print(bikes)\n",
        "del Names[1]\n",
        "print(Names)\n"
      ],
      "metadata": {
        "colab": {
          "base_uri": "https://localhost:8080/"
        },
        "id": "NyqOrAXE8g2J",
        "outputId": "3452ae0c-3cb8-4d0c-b99c-938bd78c1bd0"
      },
      "execution_count": null,
      "outputs": [
        {
          "output_type": "stream",
          "name": "stdout",
          "text": [
            "Raj likes Harley however Varun likesYamaha\n",
            "deepak\n",
            "Deepak likes Harley however Varun likesYamaha\n",
            "deepak\n",
            "suzuki\n",
            "['dukati', 'honda', 'yamaha', 'suzuki']\n",
            "['deepak', 'harjinder', 'arun']\n"
          ]
        }
      ]
    },
    {
      "cell_type": "code",
      "source": [],
      "metadata": {
        "id": "t4ELL1XK9ttY"
      },
      "execution_count": null,
      "outputs": []
    }
  ]
}